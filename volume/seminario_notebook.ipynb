{
 "cells": [
  {
   "cell_type": "markdown",
   "metadata": {},
   "source": [
    "# 🦜🔗​ Descubriendo el Poder de ​Langchain: \n",
    "<img style=\"float: left;\" src=\"https://bennewmark.wordpress.com/wp-content/uploads/2020/09/sorting-hat.jpg\" width=\"200px\"/>\n",
    "\n",
    "En este cuadernillo utilizaremos Langchain para hacer un aplicación inteligente que actue como el sombrero seleccionador de los libros de Harry Potter. El objetivo del sombrero será analizar la personalidad una persona y enviarle a una de las 4 casas de Hogwarts: \n",
    "* **Gryffindor**: Valientes, atrevidos, caballerosos y audaces. Valoran la valentía y suelen ser considerados líderes dispuestos a defender lo que es correcto.\n",
    "* **Hufflepuff**: Leales, trabajadores, justos y pacientes. Los Hufflepuff valoran la dedicación y la amabilidad, con un fuerte sentido de la justicia y la inclusión.\n",
    "* **Ravenclaw**: Inteligentes, curiosos, creativos y sabios. Los Ravenclaw valoran el aprendizaje, el ingenio y la sabiduría, y siempre buscan el conocimiento y la comprensión.\n",
    "* **Slytherin**: Ambiciosos, astutos, ingeniosos y decididos. Los Slytherin son impulsivos, suelen fijarse metas altas y valoran la lealtad dentro de su grupo."
   ]
  },
  {
   "cell_type": "markdown",
   "metadata": {
    "jp-MarkdownHeadingCollapsed": true
   },
   "source": [
    "# 🐛 Debug ON/OFF"
   ]
  },
  {
   "cell_type": "markdown",
   "metadata": {
    "jp-MarkdownHeadingCollapsed": true
   },
   "source": [
    "## ☀️ ON"
   ]
  },
  {
   "cell_type": "code",
   "execution_count": null,
   "metadata": {},
   "outputs": [],
   "source": [
    "import langchain\n",
    "\n",
    "langchain.debug = True"
   ]
  },
  {
   "cell_type": "markdown",
   "metadata": {
    "jp-MarkdownHeadingCollapsed": true
   },
   "source": [
    "## 🌑 OFF"
   ]
  },
  {
   "cell_type": "code",
   "execution_count": null,
   "metadata": {},
   "outputs": [],
   "source": [
    "import langchain\n",
    "\n",
    "langchain.debug = False"
   ]
  },
  {
   "cell_type": "markdown",
   "metadata": {
    "jp-MarkdownHeadingCollapsed": true
   },
   "source": [
    "# 📜 Sources"
   ]
  },
  {
   "cell_type": "code",
   "execution_count": null,
   "metadata": {},
   "outputs": [],
   "source": [
    "from IPython.display import display, Markdown\n",
    "from langchain.document_loaders import UnstructuredMarkdownLoader\n",
    "from langchain.output_parsers.enum import EnumOutputParser\n",
    "from langchain.prompts import PromptTemplate\n",
    "from langchain.schema.output_parser import StrOutputParser\n",
    "from langchain.schema.runnable import RunnablePassthrough\n",
    "from langchain.text_splitter import RecursiveCharacterTextSplitter\n",
    "from operator import itemgetter"
   ]
  },
  {
   "cell_type": "code",
   "execution_count": null,
   "metadata": {},
   "outputs": [],
   "source": [
    "import re\n",
    "from langchain.schema.output_parser import StrOutputParser\n",
    "from langchain.prompts import ChatPromptTemplate\n",
    "import warnings\n",
    "from enum import Enum\n",
    "\n",
    "\n",
    "# import warning menssages that start with \"UserWarning:\"\n",
    "warnings.filterwarnings(\"always\", category=UserWarning, module='transformers')\n",
    "\n",
    "system_prompt = \"\"\"\n",
    "You are an intelligent and helpful assistant. Your goal is to assist the user by providing clear, accurate, and helpful answers to their questions or requests. \n",
    "Be polite, concise, and detailed, aiming to offer the best possible solution. When appropriate, explain your reasoning or suggest additional information. \n",
    "If you do not have the necessary data, respond honestly and offer to assist in other ways.\n",
    "\"\"\"\n",
    "\n",
    "def llama_prompt(human, system=system_prompt, **kwargs):\n",
    "    prompt = ChatPromptTemplate([\n",
    "            (\"system\", system),\n",
    "            (\"human\", human)\n",
    "        ],\n",
    "        partial_variables=kwargs\n",
    "    )\n",
    "    return prompt\n",
    "\n",
    "class HogwartsHouses(Enum):\n",
    "    GRYFFINDOR  = \"gryffindor\"\n",
    "    HUFFLEPUFF = \"hufflepuff\"\n",
    "    RAVENCLAW = \"ravenclaw\"\n",
    "    SLYTHERIN = \"slytherin\""
   ]
  },
  {
   "cell_type": "markdown",
   "metadata": {
    "jp-MarkdownHeadingCollapsed": true
   },
   "source": [
    "# 🦙 Cargar el Modelo: LLama 3.1"
   ]
  },
  {
   "cell_type": "code",
   "execution_count": null,
   "metadata": {},
   "outputs": [],
   "source": [
    "# Descarga el modelo llama 3.1 (solo es necesario hacerlo una vez)\n",
    "!ollama pull llama3.1"
   ]
  },
  {
   "cell_type": "code",
   "execution_count": null,
   "metadata": {},
   "outputs": [],
   "source": [
    "from langchain_ollama import ChatOllama\n",
    "\n",
    "llm = ChatOllama(\n",
    "    model = \"llama3.1\",\n",
    "    temperature = 0,\n",
    "    num_predict = 256\n",
    ")"
   ]
  },
  {
   "cell_type": "markdown",
   "metadata": {
    "jp-MarkdownHeadingCollapsed": true
   },
   "source": [
    "# 🔗​ Chains"
   ]
  },
  {
   "cell_type": "markdown",
   "metadata": {},
   "source": [
    "## 💬 Prompt simple: \n",
    "Resumen de un capitulo de un libro"
   ]
  },
  {
   "cell_type": "code",
   "execution_count": null,
   "metadata": {},
   "outputs": [],
   "source": [
    "from langchain.prompts import ChatPromptTemplate\n",
    "\n",
    "# create prompt\n",
    "prompt = ChatPromptTemplate.from_messages(\n",
    "    [\n",
    "        (\"system\", \n",
    "            \"\"\"\n",
    "            You are an expert on the Harry Potter universe. Use your bast knowledge of the Harry Potter universe to perform the tasks the user demands. \n",
    "            If you don't have the necessary information to perform a task, indicate so, NEVER MADE THINGS UP.\n",
    "            \"\"\"\n",
    "        ),\n",
    "        (\"user\", \n",
    "            \"\"\"\n",
    "            Act as the sorting hat and tell to what Hogwarts house will {name} go, be brief. Hogwarts houses have the next traits:\n",
    "            Gryffindor: Brave, daring, chivalrous, and bold. They value courage and are often seen as leaders willing to stand up for what’s right.\n",
    "            Hufflepuff: Loyal, hardworking, fair, and patient. Hufflepuffs prize dedication and kindness, with a strong sense of justice and inclusivity.\n",
    "            Ravenclaw: Intelligent, curious, creative, and wise. Ravenclaws value learning, wit, and wisdom, always seeking knowledge and understanding.\n",
    "            Slytherin: Ambitious, cunning, resourceful, and determined. Slytherins are driven, often setting high goals and valuing loyalty within their group.\n",
    "            \"\"\",     \n",
    "        ),\n",
    "    ]\n",
    ")\n",
    "\n",
    "chain = prompt | llm"
   ]
  },
  {
   "cell_type": "markdown",
   "metadata": {},
   "source": [
    "### invoke(): \n",
    "Ejecuta una cadena"
   ]
  },
  {
   "cell_type": "code",
   "execution_count": null,
   "metadata": {},
   "outputs": [],
   "source": [
    "chain.invoke({\"name\": \"Will Smith\"})"
   ]
  },
  {
   "cell_type": "markdown",
   "metadata": {
    "jp-MarkdownHeadingCollapsed": true
   },
   "source": [
    "### batch(): \n",
    "Ejecuta la misma cadena varias veces con diferentes entradas"
   ]
  },
  {
   "cell_type": "code",
   "execution_count": null,
   "metadata": {},
   "outputs": [],
   "source": [
    "response = chain.batch([\n",
    "    {\"name\": \"Madonna\"},\n",
    "    {\"name\": \"Marilyn Monroe\"},\n",
    "])\n",
    "\n",
    "response"
   ]
  },
  {
   "cell_type": "markdown",
   "metadata": {
    "jp-MarkdownHeadingCollapsed": true
   },
   "source": [
    "### stream():\n",
    "Delvuelve la salida poco a poco, no es necesario que termine de generar todo el prompt (simula que escribe la ia)"
   ]
  },
  {
   "cell_type": "code",
   "execution_count": null,
   "metadata": {},
   "outputs": [],
   "source": [
    "for t in chain.stream({\"name\": \"Henry VIII\"}):\n",
    "    print(t)"
   ]
  },
  {
   "cell_type": "markdown",
   "metadata": {
    "jp-MarkdownHeadingCollapsed": true
   },
   "source": [
    "## 💬🦜 Prompt con parser:"
   ]
  },
  {
   "cell_type": "markdown",
   "metadata": {
    "jp-MarkdownHeadingCollapsed": true
   },
   "source": [
    "### Text"
   ]
  },
  {
   "cell_type": "code",
   "execution_count": null,
   "metadata": {},
   "outputs": [],
   "source": [
    "from langchain.schema.output_parser import StrOutputParser\n",
    "\n",
    "parser = StrOutputParser()\n",
    "prompt = llama_prompt(\n",
    "        \"\"\"\n",
    "        Act as the sorting hat and tell to what Hogwarts house will {name} go, be brief. Hogwarts houses have the next traits:\n",
    "        Gryffindor: Brave, daring, chivalrous, and bold. They value courage and are often seen as leaders willing to stand up for what’s right.\n",
    "        Hufflepuff: Loyal, hardworking, fair, and patient. Hufflepuffs prize dedication and kindness, with a strong sense of justice and inclusivity.\n",
    "        Ravenclaw: Intelligent, curious, creative, and wise. Ravenclaws value learning, wit, and wisdom, always seeking knowledge and understanding.\n",
    "        Slytherin: Ambitious, cunning, resourceful, and determined. Slytherins are driven, often setting high goals and valuing loyalty within their group.\n",
    "        \"\"\",\n",
    "        system=\"\"\"\n",
    "        You are an expert on the Harry Potter universe. Use your bast knowledge of the Harry Potter universe to perform the tasks the user demands. \n",
    "        If you don't have the necessary information to perform a task, indicate so, NEVER MADE THINGS UP.\n",
    "        \"\"\"\n",
    "    )\n",
    "\n",
    "chain = prompt | llm | parser\n",
    "\n",
    "Markdown(chain.invoke({\"name\": \"Alan Turing\"}))"
   ]
  },
  {
   "cell_type": "markdown",
   "metadata": {
    "jp-MarkdownHeadingCollapsed": true
   },
   "source": [
    "### JSON"
   ]
  },
  {
   "cell_type": "code",
   "execution_count": null,
   "metadata": {},
   "outputs": [],
   "source": [
    "from langchain_core.output_parsers import JsonOutputParser\n",
    "from langchain_core.pydantic_v1 import BaseModel, Field\n",
    "from langchain_ollama import ChatOllama\n",
    "from typing import List\n",
    "\n",
    "llm_json = ChatOllama(\n",
    "    model = \"llama3.2\",\n",
    "    temperature = 0.2,\n",
    "    num_predict = 512,\n",
    "    format=\"json\"\n",
    ")\n",
    "\n",
    "class HousesData(BaseModel):\n",
    "    \n",
    "    class PersonAsignment(BaseModel):\n",
    "        person: str\n",
    "        house: str\n",
    "    \n",
    "    asignments: List[PersonAsignment]"
   ]
  },
  {
   "cell_type": "code",
   "execution_count": null,
   "metadata": {},
   "outputs": [],
   "source": [
    "parser = JsonOutputParser(pydantic_object=HousesData)\n",
    "\n",
    "prompt = llama_prompt(\n",
    "    \"\"\"\n",
    "    Act as the sorting hat and tell to what Hogwarts house will these famous persons go: {persons}. Hogwarts houses have the next traits:\n",
    "    Gryffindor: Brave, daring, chivalrous, and bold. They value courage and are often seen as leaders willing to stand up for what’s right.\n",
    "    Hufflepuff: Loyal, hardworking, fair, and patient. Hufflepuffs prize dedication and kindness, with a strong sense of justice and inclusivity.\n",
    "    Ravenclaw: Intelligent, curious, creative, and wise. Ravenclaws value learning, wit, and wisdom, always seeking knowledge and understanding.\n",
    "    Slytherin: Ambitious, cunning, resourceful, and determined. Slytherins are driven, often setting high goals and valuing loyalty within their group.\n",
    "    Always follow this instructions when answering: \n",
    "    {format_instructions}\n",
    "    \"\"\",\n",
    "    system=\"\"\"\n",
    "    You are an expert on the Harry Potter universe. Use your bast knowledge of the Harry Potter universe to perform the tasks the user demands. \n",
    "    If you don't have the necessary information to perform a task, indicate so, NEVER MADE THINGS UP.\n",
    "    \"\"\",\n",
    "    format_instructions=parser.get_format_instructions()\n",
    ")\n",
    "\n",
    "chain = (prompt | llm_json | parser)\n",
    "\n",
    "response = chain.invoke({\n",
    "    \"persons\": [\"Robert Pattinson\", \"Emma Watson\", \"Tom Felton\", \"Katie Leung\"]\n",
    "})\n",
    "response"
   ]
  },
  {
   "cell_type": "markdown",
   "metadata": {
    "jp-MarkdownHeadingCollapsed": true
   },
   "source": [
    "#### Alternative chain"
   ]
  },
  {
   "cell_type": "code",
   "execution_count": null,
   "metadata": {},
   "outputs": [],
   "source": [
    "from langchain_core.exceptions import OutputParserException\n",
    "\n",
    "parser = JsonOutputParser(pydantic_object=HousesData)\n",
    "\n",
    "alternative_chain = (\n",
    "    llama_prompt(\n",
    "        \"\"\"\n",
    "        Use your knowledge of the Harry Potter universe and act as the sorting hat and tell to what Hogwarts house will this famous persons go: {persons}.\n",
    "        {format_instructions}\n",
    "        \"\"\",\n",
    "        system=\"\"\"\n",
    "        Only respond JSON\n",
    "        \"\"\",\n",
    "        format_instructions=parser.get_format_instructions()\n",
    "    )\n",
    "    | llm_json\n",
    "    | parser\n",
    ")\n",
    "\n",
    "chain = (\n",
    "    llama_prompt(\"Use your knowledge of the Harry Potter universe and act as the sorting hat and tell to what Hogwarts house will this famous persons go: {persons}.\")\n",
    "    | llm\n",
    "    | parser\n",
    ").with_fallbacks(fallbacks=[fix_chain], exceptions_to_handle=(OutputParserException,))\n",
    "\n",
    "response = chain.invoke({\n",
    "    \"persons\": [\"Robert Pattinson\", \"Emma Watson\", \"Tom Felton\", \"Katie Leung\"]\n",
    "})\n",
    "response"
   ]
  },
  {
   "cell_type": "markdown",
   "metadata": {
    "jp-MarkdownHeadingCollapsed": true
   },
   "source": [
    "### Dates"
   ]
  },
  {
   "cell_type": "code",
   "execution_count": null,
   "metadata": {},
   "outputs": [],
   "source": [
    "from dateutil import parser\n",
    "from langchain.output_parsers import DatetimeOutputParser\n",
    "\n",
    "parser = DatetimeOutputParser()\n",
    "\n",
    "prompt = llama_prompt(\n",
    "    \"Use your knowledge of the Harry Potter universe to user the users question:\\n {question} \\n Always follow this instruction to respond:\\n {format_instructions}\",\n",
    "    system=\"\"\"You are an expert on the Harry Potter universe. Use your bast knowledge of the Harry Potter universe to perform the tasks the user demands. \n",
    "    If you don't have the necessary information to perform a task, indicate so, NEVER MADE THINGS UP.\n",
    "    \"\"\",\n",
    "    format_instructions=parser.get_format_instructions()\n",
    ")\n",
    "\n",
    "chain = prompt | llm | parser\n",
    "\n",
    "response = chain.invoke({\n",
    "    \"question\": \"When was Harry Potter born ?\",\n",
    "})\n",
    "response"
   ]
  },
  {
   "cell_type": "markdown",
   "metadata": {
    "jp-MarkdownHeadingCollapsed": true
   },
   "source": [
    "### Enums"
   ]
  },
  {
   "cell_type": "code",
   "execution_count": null,
   "metadata": {},
   "outputs": [],
   "source": [
    "from enum import Enum\n",
    "from langchain.output_parsers.enum import EnumOutputParser\n",
    "from langchain_core.exceptions import OutputParserException\n",
    "\n",
    "class HogwartsHouses(Enum):\n",
    "    GRYFFINDOR  = \"gryffindor\"\n",
    "    HUFFLEPUFF = \"hufflepuff\"\n",
    "    RAVENCLAW = \"ravenclaw\"\n",
    "    SLYTHERIN = \"slytherin\"\n",
    "\n",
    "parser = EnumOutputParser(enum=HogwartsHouses)\n",
    "\n",
    "prompt = llama_prompt(\n",
    "    \"\"\"\n",
    "    Act as the sorting hat and tell to what Hogwarts house will {name} go. Hogwarts houses have the next traits:\n",
    "    Gryffindor: Brave, daring, chivalrous, and bold. They value courage and are often seen as leaders willing to stand up for what’s right.\n",
    "    Hufflepuff: Loyal, hardworking, fair, and patient. Hufflepuffs prize dedication and kindness, with a strong sense of justice and inclusivity.\n",
    "    Ravenclaw: Intelligent, curious, creative, and wise. Ravenclaws value learning, wit, and wisdom, always seeking knowledge and understanding.\n",
    "    Slytherin: Ambitious, cunning, resourceful, and determined. Slytherins are driven, often setting high goals and valuing loyalty within their group.\n",
    "    Always follow this instructions when answering:\n",
    "    {format_instructions} only return one option with no explanation, always reply in lower case.\n",
    "    \"\"\",\n",
    "    system=\"\"\"You are an expert on the Harry Potter universe. Use your bast knowledge of the Harry Potter universe to perform the tasks the user demands. \n",
    "    If you don't have the necessary information to perform a task, indicate so, NEVER MADE THINGS UP.\n",
    "    \"\"\",\n",
    "    format_instructions=parser.get_format_instructions()\n",
    ")\n",
    "\n",
    "chain = (prompt | llm | parser).with_retry(retry_if_exception_type=(OutputParserException,), stop_after_attempt=3)\n",
    "\n",
    "response = chain.invoke({\n",
    "    \"name\": \"Albert Einstein\"\n",
    "})\n",
    "response"
   ]
  },
  {
   "cell_type": "markdown",
   "metadata": {
    "jp-MarkdownHeadingCollapsed": true
   },
   "source": [
    "### Output-fixing"
   ]
  },
  {
   "cell_type": "code",
   "execution_count": null,
   "metadata": {},
   "outputs": [],
   "source": [
    "from enum import Enum\n",
    "from langchain.output_parsers.enum import EnumOutputParser\n",
    "from langchain.output_parsers.fix import OutputFixingParser\n",
    "from langchain_core.exceptions import OutputParserException\n",
    "\n",
    "class HogwartsHouses(Enum):\n",
    "    GRYFFINDOR  = \"gryffindor\"\n",
    "    HUFFLEPUFF = \"hufflepuff\"\n",
    "    RAVENCLAW = \"ravenclaw\"\n",
    "    SLYTHERIN = \"slytherin\"\n",
    "\n",
    "enum_parser = EnumOutputParser(enum=HogwartsHouses)\n",
    "parser = OutputFixingParser.from_llm(\n",
    "    llm=llm,\n",
    "    parser=enum_parser,\n",
    "    max_retries=3,\n",
    "    prompt=llama_prompt(\n",
    "        \"\"\"\n",
    "        The next answer was not complient with the instructions provided because of thi error: {error}. \n",
    "        Please correct the next answer to follow this instructions: {instructions}, only return one option with no explanation, always reply in lower case.\n",
    "        {completion}\n",
    "        \"\"\"\n",
    "    )\n",
    ")\n",
    "\n",
    "prompt = ChatPromptTemplate(\n",
    "    [\n",
    "        (\"system\", \"You are an expert on the Harry Potter universe. Use your bast knowledge of the Harry Potter universe to perform the tasks the user demands. If you don't have the necessary information to perform a task, indicate so, NEVER MADE THINGS UP.\",),\n",
    "        (\"user\", \n",
    "             \"\"\"\n",
    "             Act as the sorting hat and tell to what Hogwarts house will this famous person go: {name}.\n",
    "             Instructions: {format_instructions} only return one option with no explanation, always reply in Camel case.\n",
    "             \"\"\",)\n",
    "    ],\n",
    "    partial_variables={\"format_instructions\": parser.get_format_instructions()},\n",
    ")\n",
    "\n",
    "chain = (prompt | llm | parser)\n",
    "\n",
    "response = chain.invoke({\n",
    "    \"name\": \"Albert Einstein\"\n",
    "})\n",
    "response"
   ]
  },
  {
   "cell_type": "markdown",
   "metadata": {
    "jp-MarkdownHeadingCollapsed": true
   },
   "source": [
    "### Custom Parser"
   ]
  },
  {
   "cell_type": "code",
   "execution_count": null,
   "metadata": {},
   "outputs": [],
   "source": [
    "import emoji\n",
    "from langchain.schema.output_parser import StrOutputParser\n",
    "\n",
    "class EmojiOutputParser(StrOutputParser):\n",
    "    \"\"\"\n",
    "    Returns a list of emojis\n",
    "    \"\"\"\n",
    "    def __init__(self):\n",
    "        super().__init__()\n",
    "\n",
    "    def parse_result(self, output):\n",
    "        result = super().parse_result(output)\n",
    "        return [r[\"emoji\"] for r in emoji.emoji_list(result)]\n",
    "\n",
    "    def get_format_instructions(self):\n",
    "        return \"First write your response, in a new line translate the response into emojis, use as few emojis as possible and a maximum of 7 emojis. Do not explain your translation\""
   ]
  },
  {
   "cell_type": "code",
   "execution_count": null,
   "metadata": {},
   "outputs": [],
   "source": [
    "parser = EmojiOutputParser()\n",
    "prompt = ChatPromptTemplate(\n",
    "    [\n",
    "        (\"system\", \"You are an expert on the Harry Potter universe. Use your bast knowledge of the Harry Potter universe to perform the tasks the user demands. If you don't have the necessary information to perform a task, indicate so, NEVER MADE THINGS UP.\",),\n",
    "        (\"user\", \"Act as the sorting hat and tell to what Hogwarts house will this famous person go: {name}.\\n Always follow this instruction to respond:\\n {format_instructions}\",),\n",
    "    ],\n",
    "    partial_variables={\"format_instructions\": parser.get_format_instructions()},\n",
    ")\n",
    "\n",
    "chain = prompt | llm | parser\n",
    "\n",
    "chain.invoke({\"name\": \"Taylor Swift\"})"
   ]
  },
  {
   "cell_type": "markdown",
   "metadata": {
    "jp-MarkdownHeadingCollapsed": true
   },
   "source": [
    "## 🔗🔗🔗 Encadenando chains:\n"
   ]
  },
  {
   "cell_type": "markdown",
   "metadata": {
    "jp-MarkdownHeadingCollapsed": true
   },
   "source": [
    "### Secuencial\n",
    "Emojis + gussing\n",
    "```\n",
    "🔗make emojis\n",
    "    |\n",
    "🔗guess emojis\n",
    "```"
   ]
  },
  {
   "cell_type": "code",
   "execution_count": null,
   "metadata": {},
   "outputs": [],
   "source": [
    "parser = EmojiOutputParser()\n",
    "prompt = ChatPromptTemplate(\n",
    "    [\n",
    "        (\"system\", \"You are an expert on the Harry Potter universe. Use your bast knowledge of the Harry Potter universe to perform the tasks the user demands. If you don't have the necessary information to perform a task, indicate so, NEVER MADE THINGS UP.\",),\n",
    "        (\"user\", \"Act as the sorting hat and tell to what Hogwarts house will this famous person go: {name}.\\n Always follow this instruction to respond:\\n {format_instructions}\",),\n",
    "    ],\n",
    "    partial_variables={\"format_instructions\": parser.get_format_instructions()},\n",
    ")\n",
    "\n",
    "chain_emoji = prompt | llm | parser"
   ]
  },
  {
   "cell_type": "code",
   "execution_count": null,
   "metadata": {},
   "outputs": [],
   "source": [
    "parser = EnumOutputParser(enum=HogwartsHouses)\n",
    "\n",
    "prompt = ChatPromptTemplate(\n",
    "    [\n",
    "        (\"system\", \"You are an expert on the Harry Potter universe. Use your bast knowledge of the Harry Potter universe to perform the tasks the user demands. If you don't have the necessary information to perform a task, indicate so, NEVER MADE THINGS UP.\",),\n",
    "        (\"user\", \"\"\"\n",
    "                Use your knowledge of the Harry Potter to guess which of the four Hogwarts houses are these emojis: {emojis} refering to.\n",
    "                Instructions: {format_instructions} only return one option with no explanation, always reply in lower case.\n",
    "            \"\"\",)\n",
    "    ],\n",
    "    partial_variables={\"format_instructions\": parser.get_format_instructions()},\n",
    ")\n",
    "\n",
    "chain_guess = {\"emojis\": chain_emoji} | prompt | llm | parser\n",
    "\n",
    "response = chain_guess.invoke({\"name\": \"Sid Vicious\"})\n",
    "response"
   ]
  },
  {
   "cell_type": "markdown",
   "metadata": {
    "jp-MarkdownHeadingCollapsed": true
   },
   "source": [
    "### Custom functions\n",
    "sort + emoji + guessing\n",
    "```\n",
    "🔗sort into house\n",
    "    |\n",
    "🖥️ python function\n",
    "    |\n",
    "🔗guess emojis\n",
    "```"
   ]
  },
  {
   "cell_type": "code",
   "execution_count": null,
   "metadata": {},
   "outputs": [],
   "source": [
    "from enum import Enum\n",
    "from langchain.output_parsers.enum import EnumOutputParser\n",
    "\n",
    "class HogwartsHouses(Enum):\n",
    "    GRYFFINDOR  = \"gryffindor\"\n",
    "    HUFFLEPUFF = \"hufflepuff\"\n",
    "    RAVENCLAW = \"ravenclaw\"\n",
    "    SLYTHERIN = \"slytherin\"\n",
    "\n",
    "enum_parser = EnumOutputParser(enum=HogwartsHouses)\n",
    "parser = OutputFixingParser.from_llm(\n",
    "    llm=llm,\n",
    "    parser=enum_parser,\n",
    "    max_retries=3,\n",
    "    prompt=llama_prompt(\n",
    "        \"\"\"\n",
    "        The next answer was not complient with the instructions provided because of thi error: {error}. \n",
    "        Please correct the next answer to follow this instructions: {instructions}, only return one option with no explanation, always reply in lower case.\n",
    "        {completion}\n",
    "        \"\"\"\n",
    "    )\n",
    ")\n",
    "\n",
    "prompt = ChatPromptTemplate(\n",
    "    [\n",
    "        (\"system\", \"You are an expert on the Harry Potter universe. Use your bast knowledge of the Harry Potter universe to perform the tasks the user demands. If you don't have the necessary information to perform a task, indicate so, NEVER MADE THINGS UP.\",),\n",
    "        (\"user\", \n",
    "             \"\"\"\n",
    "             Act as the sorting hat and tell to what Hogwarts house will this famous person go: {name}.\n",
    "             Instructions: {format_instructions} only return one option with no explanation, always reply in lower case.\n",
    "             \"\"\",)\n",
    "    ],\n",
    "    partial_variables={\"format_instructions\": parser.get_format_instructions()},\n",
    ")\n",
    "\n",
    "sorting_chain = prompt | llm | parser"
   ]
  },
  {
   "cell_type": "code",
   "execution_count": null,
   "metadata": {},
   "outputs": [],
   "source": [
    "prompt = ChatPromptTemplate(\n",
    "    [\n",
    "        (\"system\", \"You are an expert on the Harry Potter universe. Use your bast knowledge of the Harry Potter universe to perform the tasks the user demands. If you don't have the necessary information to perform a task, indicate so, NEVER MADE THINGS UP.\",),\n",
    "        (\"user\", \"Use your knowledge of the Harry Potter to guess which of the four Hogwarts houses are these emojis: {emojis} refering to.\",)\n",
    "    ],\n",
    ")\n",
    "\n",
    "chain_guess =  prompt | llm | StrOutputParser()"
   ]
  },
  {
   "cell_type": "code",
   "execution_count": null,
   "metadata": {},
   "outputs": [],
   "source": [
    "from langchain_core.runnables import RunnableLambda\n",
    "\n",
    "def house2emoji(house):\n",
    "    house_map = {\n",
    "        HogwartsHouses.GRYFFINDOR : '🦁',\n",
    "        HogwartsHouses.RAVENCLAW : '🐦‍⬛',\n",
    "        HogwartsHouses.HUFFLEPUFF : '🦡',\n",
    "        HogwartsHouses.SLYTHERIN  : '🐍'\n",
    "    }\n",
    "    return house_map.get(house, \"❓\")\n",
    "\n",
    "final_chain = (\n",
    "    {'name': RunnablePassthrough()} \n",
    "    | sorting_chain\n",
    "    | {\"emojis\": RunnablePassthrough() | RunnableLambda(house2emoji)}\n",
    "    | chain_guess\n",
    ")\n",
    "\n",
    "Markdown(final_chain.invoke(\"Rafa Nadal\"))"
   ]
  },
  {
   "cell_type": "markdown",
   "metadata": {},
   "source": [
    "### Flow\n",
    "Polaridad de una relación\n",
    "```\n",
    "      🔗description\n",
    "        /        \\\n",
    "       /          \\\n",
    "  🔗positive   🔗negative\n",
    "       \\           /\n",
    "        \\         /\n",
    "         🔗house\n",
    "```"
   ]
  },
  {
   "cell_type": "code",
   "execution_count": null,
   "metadata": {},
   "outputs": [],
   "source": [
    "from langchain.schema.runnable import RunnablePassthrough\n",
    "\n",
    "parser = EnumOutputParser(enum=HogwartsHouses)\n",
    "\n",
    "description = (\n",
    "    {'name': RunnablePassthrough()}\n",
    "    | llama_prompt(\"Describe what is the personality of this famous person: {name}. Only describe the personality. Be brief\")\n",
    "    | llm\n",
    "    | StrOutputParser()\n",
    "    | {'description': RunnablePassthrough()}\n",
    ")\n",
    "\n",
    "positive = (\n",
    "    llama_prompt(\"Given the next personality description of a famous person list 5 positive things of his persona:\\n {description}\")\n",
    "    | llm\n",
    "    | StrOutputParser()\n",
    ")\n",
    "\n",
    "negative = (\n",
    "    llama_prompt(\"Given the next personality description of a famous person list 5 negative things of his persona:\\n {description}\")\n",
    "    | llm\n",
    "    | StrOutputParser()\n",
    ")\n",
    "\n",
    "house = (\n",
    "    llama_prompt(\n",
    "        \"\"\"\n",
    "        Act as the Sorting Hat and guess to what Hogwarts house will a person go given 5 positives things and 5 negative things his persona.\n",
    "        positive: {positive}\n",
    "        negative: {negative}\n",
    "        Instructions: {format_instructions} only return one option with no explanation, always reply in lower case.\n",
    "        \"\"\",\n",
    "        system=\"\"\"\n",
    "        \"You are an expert on the Harry Potter universe. Use your bast knowledge of the Harry Potter universe to perform the tasks the user demands. \n",
    "        If you don't have the necessary information to perform a task, indicate so, NEVER MADE THINGS UP.\n",
    "        \"\"\",\n",
    "        format_instructions=parser.get_format_instructions()\n",
    "    )\n",
    "    | llm\n",
    "    | parser\n",
    ")\n",
    "\n",
    "chain = (\n",
    "    description\n",
    "    | {'positive': positive, 'negative': negative}\n",
    "    | house\n",
    ")\n",
    "\n",
    "response = chain.invoke(\"Stan Lee\")\n",
    "response"
   ]
  },
  {
   "cell_type": "markdown",
   "metadata": {
    "jp-MarkdownHeadingCollapsed": true
   },
   "source": [
    "# 📖 Documentos"
   ]
  },
  {
   "cell_type": "code",
   "execution_count": null,
   "metadata": {},
   "outputs": [],
   "source": [
    "sorting_chain = (\n",
    "    llama_prompt(\n",
    "        \"\"\"\n",
    "        Act as the sorting hat and tell to what Hogwarts house will this person go. Hogwards houses have the next traits:\n",
    "        Gryffindor: Brave, daring, chivalrous, and bold. They value courage and are often seen as leaders willing to stand up for what’s right.\n",
    "        Hufflepuff: Loyal, hardworking, fair, and patient. Hufflepuffs prize dedication and kindness, with a strong sense of justice and inclusivity.\n",
    "        Ravenclaw: Intelligent, curious, creative, and wise. Ravenclaws value learning, wit, and wisdom, always seeking knowledge and understanding.\n",
    "        Slytherin: Ambitious, cunning, resourceful, and determined. Slytherins are driven, often setting high goals and valuing loyalty within their group.\n",
    "        Here is the persons biography:\n",
    "        \"{bio}\"\n",
    "        Be brief.\n",
    "        \"\"\",\n",
    "        system=\"\"\"\n",
    "        You are an expert on the Harry Potter universe. Use your bast knowledge of the Harry Potter universe to perform the tasks the user demands. \n",
    "        If you don't have the necessary information to perform a task, indicate so, NEVER MADE THINGS UP.\n",
    "        \"\"\"\n",
    "    )\n",
    "    | llm \n",
    "    | StrOutputParser()\n",
    ")"
   ]
  },
  {
   "cell_type": "markdown",
   "metadata": {
    "jp-MarkdownHeadingCollapsed": true
   },
   "source": [
    "## 📕 Procesar un documento completo\n",
    "```\n",
    "    🔗summarize document\n",
    "        |\n",
    "    🔗sorting\n",
    "```"
   ]
  },
  {
   "cell_type": "code",
   "execution_count": null,
   "metadata": {},
   "outputs": [],
   "source": [
    "from langchain_community.document_loaders import WikipediaLoader\n",
    "\n",
    "doc = WikipediaLoader(query=\"Mikel López Iturriaga\", lang='es', load_max_docs=1).load()\n",
    "\n",
    "summarize_chain = llama_prompt(\"Write a concise summary of the following:\\\\n\\\\n{context}\") | llm | StrOutputParser()\n",
    "chain = (\n",
    "    {\"context\":RunnablePassthrough()}\n",
    "    | summarize_chain\n",
    "    | {\"bio\": RunnablePassthrough()}\n",
    "    | sorting_chain\n",
    ")\n",
    "\n",
    "Markdown(chain.invoke(doc[0].page_content))"
   ]
  },
  {
   "cell_type": "markdown",
   "metadata": {
    "jp-MarkdownHeadingCollapsed": true
   },
   "source": [
    "## 🪓 Dividir documentos"
   ]
  },
  {
   "cell_type": "code",
   "execution_count": null,
   "metadata": {},
   "outputs": [],
   "source": [
    "from langchain.text_splitter import RecursiveCharacterTextSplitter\n",
    "from langchain_community.document_loaders import WikipediaLoader\n",
    "\n",
    "doc = WikipediaLoader(query=\"Mikel López Iturriaga\", lang='es', load_max_docs=1).load()\n",
    "\n",
    "text_splitter = RecursiveCharacterTextSplitter(\n",
    "    # Set a really small chunk size, just to show.\n",
    "    chunk_size = 1000,\n",
    "    chunk_overlap  = 100\n",
    ")\n",
    "chunks = text_splitter.split_documents(doc)"
   ]
  },
  {
   "cell_type": "markdown",
   "metadata": {
    "jp-MarkdownHeadingCollapsed": true
   },
   "source": [
    "#### Map-Reduce\n",
    "```\n",
    "        📕{documento}\n",
    "       /            \\\n",
    "  📜{cacho_0} .. 📜{cacho_N}\n",
    "      |                |\n",
    "🔗{map_chain} .. 🔗{map_chain}\n",
    "      \\              /\n",
    "     🔗{reduce_chain}\n",
    "             |\n",
    "     💬{final_output}\n",
    "```"
   ]
  },
  {
   "cell_type": "code",
   "execution_count": null,
   "metadata": {},
   "outputs": [],
   "source": [
    "from langchain.schema.output_parser import StrOutputParser\n",
    "from langchain.schema.runnable import RunnablePassthrough\n",
    "\n",
    "map_chain = (\n",
    "    {\"context\": RunnablePassthrough()}\n",
    "    | llama_prompt(\"Write a concise summary of the following:\\\\n\\\\n{context}\") \n",
    "    | llm \n",
    "    | StrOutputParser()\n",
    ")\n",
    "reduce_chain = (\n",
    "    {\"docs\": RunnablePassthrough()}\n",
    "    | llama_prompt(\"The following is set of summaries:\\n {docs} \\nTake these and distill it into a final, consolidated summary. Be brief, 250 words maximun.\") \n",
    "    | llm \n",
    "    | StrOutputParser()\n",
    ")\n",
    "\n",
    "map_reduce_chain = (\n",
    "    RunnablePassthrough()\n",
    "    | map_chain.map()\n",
    "    | reduce_chain\n",
    ")\n",
    "\n",
    "chain = (\n",
    "    {\"bio\": map_reduce_chain}\n",
    "    | sorting_chain\n",
    ")\n",
    "\n",
    "Markdown(chain.invoke(chunks))"
   ]
  },
  {
   "cell_type": "markdown",
   "metadata": {
    "jp-MarkdownHeadingCollapsed": true
   },
   "source": [
    "#### Refine\n",
    "```\n",
    "📕{documento}\n",
    " | \\\n",
    " | 📜{cacho_0}-🔗{initial}-💬{partial_output_0} \n",
    " \\                  _________________/\n",
    "  \\                |\n",
    "   📜{cacho_1}-🔗{refine}-💬{partial_output_1} \n",
    "```"
   ]
  },
  {
   "cell_type": "code",
   "execution_count": null,
   "metadata": {},
   "outputs": [],
   "source": [
    "from langchain_core.runnables import RunnableLambda\n",
    "\n",
    "refine_chain = (\n",
    "    {\"doc\": RunnableLambda(lambda x: chunks[0].page_content)}\n",
    "    | llama_prompt(\"Summarize the next paragraph. Be brief.\\n {doc}\")\n",
    "    | llm\n",
    "    | StrOutputParser()\n",
    ")\n",
    "\n",
    "for ck in chunks[1:]:\n",
    "    middle_chain = (\n",
    "        {\"summary\": RunnablePassthrough(), \"paragraph\": RunnableLambda(lambda x: ck.page_content)}\n",
    "        | llama_prompt(\n",
    "            \"\"\"\"\n",
    "            Given the next summary with the information processed so far:\n",
    "            {summary}\n",
    "            Update it with the next paragraph, be brief:\n",
    "            {paragraph}\n",
    "            \"\"\"\n",
    "         )\n",
    "        | llm\n",
    "        | StrOutputParser()\n",
    "    )\n",
    "    refine_chain = refine_chain | middle_chain\n",
    "\n",
    "chain = (\n",
    "    {\"bio\": refine_chain}\n",
    "    | sorting_chain\n",
    ")\n",
    "\n",
    "Markdown(chain.invoke(chunks))"
   ]
  },
  {
   "cell_type": "markdown",
   "metadata": {
    "jp-MarkdownHeadingCollapsed": true
   },
   "source": [
    "## 📘 Interactuar con un documento (RAG)"
   ]
  },
  {
   "cell_type": "markdown",
   "metadata": {
    "jp-MarkdownHeadingCollapsed": true
   },
   "source": [
    "### 🪓 Dividir el documento "
   ]
  },
  {
   "cell_type": "code",
   "execution_count": null,
   "metadata": {},
   "outputs": [],
   "source": [
    "import bs4\n",
    "from langchain_community.document_loaders import WebBaseLoader\n",
    "\n",
    "page_urls = [\n",
    "    \"https://psicologiaymente.com/cultura/dioses-griegos\",\n",
    "    \"https://rickriordan.com/extra/meet-the-greek-gods/\",\n",
    "    \"https://greektraveltellers.com/blog/the-greek-gods\"\n",
    "]\n",
    "\n",
    "loader = WebBaseLoader(web_paths=page_urls)\n",
    "docs = []\n",
    "async for doc in loader.alazy_load():\n",
    "    docs.append(doc)\n",
    "\n",
    "text_splitter = RecursiveCharacterTextSplitter(\n",
    "    # Set a really small chunk size, just to show.\n",
    "    chunk_size = 1000,\n",
    "    chunk_overlap  = 100\n",
    ")\n",
    "chunks = text_splitter.split_documents(docs)\n",
    "print(len(chunks))"
   ]
  },
  {
   "cell_type": "markdown",
   "metadata": {
    "jp-MarkdownHeadingCollapsed": true
   },
   "source": [
    "### ️🗄️ Generar la base de datos"
   ]
  },
  {
   "cell_type": "code",
   "execution_count": null,
   "metadata": {},
   "outputs": [],
   "source": [
    "import faiss\n",
    "from langchain_community.docstore.in_memory import InMemoryDocstore\n",
    "from langchain_community.vectorstores import FAISS\n",
    "from langchain_huggingface import HuggingFaceEmbeddings\n",
    "\n",
    "model_name = \"sentence-transformers/paraphrase-multilingual-MiniLM-L12-v2\"\n",
    "model_kwargs = {'device': 'cuda'}\n",
    "encode_kwargs = {'normalize_embeddings': True}\n",
    "embeddings = HuggingFaceEmbeddings(\n",
    "    model_name=model_name,\n",
    "    model_kwargs=model_kwargs,\n",
    "    encode_kwargs=encode_kwargs\n",
    ")\n",
    "index = faiss.IndexFlatIP(len(embeddings.embed_query(\"hello world\")))\n",
    "\n",
    "vector_store = FAISS(\n",
    "    embedding_function=embeddings,\n",
    "    index=index,\n",
    "    docstore=InMemoryDocstore(),\n",
    "    index_to_docstore_id={},\n",
    ")\n",
    "ids = vector_store.add_documents(chunks)\n",
    "print(len(ids))"
   ]
  },
  {
   "cell_type": "markdown",
   "metadata": {
    "jp-MarkdownHeadingCollapsed": true
   },
   "source": [
    "### ️⚒️ Extraer cachos relevantes"
   ]
  },
  {
   "cell_type": "code",
   "execution_count": null,
   "metadata": {},
   "outputs": [],
   "source": [
    "from langchain.schema.runnable import RunnablePassthrough\n",
    "\n",
    "question = \"How is Zeus like ?\"\n",
    "\n",
    "docs_chain = RunnablePassthrough() | vector_store.as_retriever(search_type=\"similarity\", search_kwargs={\"k\": 6})\n",
    "\n",
    "for doc in docs_chain.invoke(question):\n",
    "    print(\"************************************\")\n",
    "    print(doc.page_content)\n",
    "    print(\"************************************\")"
   ]
  },
  {
   "cell_type": "markdown",
   "metadata": {
    "jp-MarkdownHeadingCollapsed": true
   },
   "source": [
    "### 🏗️ Procesar documentos\n",
    "```\n",
    "    📖 find information\n",
    "        |\n",
    "    🔗summarize document\n",
    "        |\n",
    "    🔗sorting\n",
    "```"
   ]
  },
  {
   "cell_type": "code",
   "execution_count": null,
   "metadata": {},
   "outputs": [],
   "source": [
    "from langchain_core.runnables import RunnableLambda\n",
    "\n",
    "def format_docs(docs):\n",
    "    return \"\\n\\n\".join(doc.page_content for doc in docs)\n",
    "\n",
    "question = \"How is {0} like ?\"\n",
    "retriever = vector_store.as_retriever(search_type=\"similarity\", search_kwargs={\"k\": 6})\n",
    "\n",
    "chain = (\n",
    "    {\"context\": RunnableLambda(lambda x: question.format(x)) | retriever | format_docs, \"god\": RunnablePassthrough()}\n",
    "    | llama_prompt(\n",
    "        \"\"\"\n",
    "        Summarize this {god} personality given this context, only use information in the context given: \n",
    "        {context}\n",
    "        \"\"\"\n",
    "    )\n",
    "    | llm\n",
    "    | StrOutputParser()\n",
    "    | {\"bio\": RunnablePassthrough()}\n",
    "    | sorting_chain\n",
    ")\n",
    "\n",
    "Markdown(chain.invoke(\"Hades\"))"
   ]
  },
  {
   "cell_type": "code",
   "execution_count": null,
   "metadata": {},
   "outputs": [],
   "source": []
  }
 ],
 "metadata": {
  "kernelspec": {
   "display_name": "Python 3 (ipykernel)",
   "language": "python",
   "name": "python3"
  },
  "language_info": {
   "codemirror_mode": {
    "name": "ipython",
    "version": 3
   },
   "file_extension": ".py",
   "mimetype": "text/x-python",
   "name": "python",
   "nbconvert_exporter": "python",
   "pygments_lexer": "ipython3",
   "version": "3.10.12"
  }
 },
 "nbformat": 4,
 "nbformat_minor": 4
}
